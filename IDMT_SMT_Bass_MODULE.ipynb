{
 "cells": [
  {
   "cell_type": "code",
   "execution_count": 1,
   "metadata": {},
   "outputs": [
    {
     "data": {
      "text/plain": [
       "'IDMT SMT Bass Dataset Loader.\\n.. admonition:: Dataset Info\\n    :class: dropdown\\n    The IDMT-SMT-Bass database is a large database for automatic bass transcription and signal processing.\\n    The overall duration of the audio material is approx. 3.6 hours.\\n    The dataset consists of approx. 4300 WAV files (44.1 kHz, 24bit) with single recorded notes.\\n    Overall, 10 different bass-related playing techniques namely 5 plucking styles\\n      fingerstyle (FS) \\n      picked (PK)\\n      muted (MU)\\n      slap-thumb (ST)\\n      slap-pluck (SP)\\n    and 5 expression styles\\n      normal (NO)\\n      vibrato (VI)\\n      bending (BE)\\n      harmonics (HA)\\n      dead-note (DN)\\n    are incorporated. A further explaination of the playing techniques is provided in the paper for the same.\\n\\n For each of the three expression techniques (vibrato, bending, slide), two subclasses were defined in [2]:\\n fast vibrato, slow vibrato\\n semi-tone bending, quarter-note bending\\n slide up, slide down (recorded with fretless bass guitar)\\n 3 different 4-string electric bass guitars, each with 3 different pick-up settings were used for recording.\\n\\n The notes cover the common pitch range of a 4-string bass guitar from E1 (41.2 Hz) to G3 (196.0 Hz). \\n THE DATASET CAN BE DOWNLOADED BY ASKING FOR ACCESS FROM THE LINK PROVIDED IN THE REMOTES SECTION.\\n'"
      ]
     },
     "execution_count": 1,
     "metadata": {},
     "output_type": "execute_result"
    }
   ],
   "source": [
    "\"\"\"IDMT SMT Bass Dataset Loader.\n",
    ".. admonition:: Dataset Info\n",
    "    :class: dropdown\n",
    "    The IDMT-SMT-Bass database is a large database for automatic bass transcription and signal processing.\n",
    "    The overall duration of the audio material is approx. 3.6 hours.\n",
    "    The dataset consists of approx. 4300 WAV files (44.1 kHz, 24bit) with single recorded notes.\n",
    "    Overall, 10 different bass-related playing techniques namely 5 plucking styles\n",
    "      fingerstyle (FS) \n",
    "      picked (PK)\n",
    "      muted (MU)\n",
    "      slap-thumb (ST)\n",
    "      slap-pluck (SP)\n",
    "    and 5 expression styles\n",
    "      normal (NO)\n",
    "      vibrato (VI)\n",
    "      bending (BE)\n",
    "      harmonics (HA)\n",
    "      dead-note (DN)\n",
    "    are incorporated. A further explaination of the playing techniques is provided in the paper for the same.\n",
    "\n",
    " For each of the three expression techniques (vibrato, bending, slide), two subclasses were defined in [2]:\n",
    " fast vibrato, slow vibrato\n",
    " semi-tone bending, quarter-note bending\n",
    " slide up, slide down (recorded with fretless bass guitar)\n",
    " 3 different 4-string electric bass guitars, each with 3 different pick-up settings were used for recording.\n",
    "\n",
    " The notes cover the common pitch range of a 4-string bass guitar from E1 (41.2 Hz) to G3 (196.0 Hz). \n",
    " THE DATASET CAN BE DOWNLOADED BY ASKING FOR ACCESS FROM THE LINK PROVIDED IN THE REMOTES SECTION.\n",
    "\"\"\""
   ]
  },
  {
   "cell_type": "code",
   "execution_count": 2,
   "metadata": {},
   "outputs": [],
   "source": [
    "import csv\n",
    "import os\n",
    "from typing import BinaryIO, Optional, Tuple\n",
    "import json\n",
    "\n",
    "import librosa\n",
    "import numpy as np\n",
    "\n",
    "from mirdata import core, download_utils, io, jams_utils\n",
    "from mirdata.validate import md5\n"
   ]
  },
  {
   "cell_type": "code",
   "execution_count": 3,
   "metadata": {},
   "outputs": [],
   "source": [
    "BIBTEX = \"\"\"@INPROCEEDINGS{5495945, \n",
    "  author={Abeßer, Jakob and Lukashevich, Hanna and Schuller, Gerald},\n",
    "  booktitle={2010 IEEE International Conference on Acoustics, Speech and Signal Processing},\n",
    "  title={Feature-based extraction of plucking and expression styles of the electric bass guitar}, \n",
    "  year={2010},  volume={}, \n",
    "  number={},\n",
    "  pages={2290-2293},\n",
    "  doi={10.1109/ICASSP.2010.5495945}\n",
    "}\"\"\""
   ]
  },
  {
   "cell_type": "code",
   "execution_count": 4,
   "metadata": {},
   "outputs": [],
   "source": [
    "INDEXES = {\n",
    "    \"default\": \"1.1\",\n",
    "    \"test\": \"1.1\",\n",
    "    \"1.1\": core.Index(filename=\"IDMT_SMT_Bass_index.json\"),\n",
    "}"
   ]
  },
  {
   "cell_type": "code",
   "execution_count": 5,
   "metadata": {},
   "outputs": [],
   "source": [
    "REMOTES = {\n",
    "    \"audio\": download_utils.RemoteFileMetadata(\n",
    "        filename=\"IDMT-SMT-BASS.zip\",\n",
    "        url=\"https://www.idmt.fraunhofer.de/en/publications/datasets/published-datasets-terms.html\",\n",
    "        checksum=\"884d77260aaaa3df7557f77a6b3aef18\",\n",
    "        destination_dir=\"IDMT-SMT-BASS\",\n",
    "    ),\n",
    "    \n",
    "}\n",
    "    "
   ]
  },
  {
   "cell_type": "code",
   "execution_count": 6,
   "metadata": {},
   "outputs": [],
   "source": [
    "LICENSE_INFO = \"Creative Commons Attribution-ShareAlike 4.0 International License ('by-sa')\""
   ]
  },
  {
   "cell_type": "code",
   "execution_count": 7,
   "metadata": {},
   "outputs": [],
   "source": [
    "Type_of_Bass_Guitar= {1: \"Fame Baphomet NTB 4 String\", 2: \"Warwick 4 String\", 3: \"Yamaha BB604 Jazz Bass 4 String\"}"
   ]
  },
  {
   "cell_type": "code",
   "execution_count": 8,
   "metadata": {},
   "outputs": [],
   "source": [
    "class Track(core.Track):\n",
    "    \"\"\"IDMT-SMT-Bass Track class\n",
    "    Args:\n",
    "        track_id (str): track id of the track\n",
    "    Attributes:\n",
    "        audio_path (str): path of the audio file\n",
    "        instrument_model (str): name of the bass guitar used\n",
    "        string_number (int): The string corresponds to a standard 4 string bass tuning.\n",
    "        track_id (str): track id\n",
    "    \"\"\"      \n",
    "    \n",
    "    def __init__(\n",
    "        self,\n",
    "        track_id,\n",
    "        data_home,\n",
    "        dataset_name,\n",
    "        index,\n",
    "        metadata,\n",
    "    ):\n",
    "        super().__init__(\n",
    "            track_id,\n",
    "            data_home,\n",
    "            dataset_name,\n",
    "            index,\n",
    "            metadata,\n",
    "        )\n",
    "\n",
    "        self.audio_path = self.get_path(\"audio\")\n",
    "\n",
    "    @property\n",
    "    def instrument_model(self):\n",
    "        return self._track_metadata.get(\"instrument_model\")\n",
    "    \n",
    "    @property\n",
    "    def string_number(self):\n",
    "        return self._track_metadata.get(\"string_number\")\n",
    "    \n",
    "    @property\n",
    "    def audio(self) -> Optional[Tuple[np.ndarray, float]]:\n",
    "        \"\"\"The track's audio\n",
    "        Returns:\n",
    "            * np.ndarray - audio signal\n",
    "            * float - sample rate\n",
    "        \"\"\"\n",
    "        return load_audio(self.audio_path)\n",
    "    \n",
    "    def to_jams(self):\n",
    "        \"\"\"Get the track's data in jams format\n",
    "        Returns:\n",
    "            jams.JAMS: the track's data in jams format\n",
    "        \"\"\"\n",
    "        return jams_utils.jams_converter(\n",
    "            audio_path=self.audio_path, metadata=self._track_metadata\n",
    "        )\n"
   ]
  },
  {
   "cell_type": "code",
   "execution_count": 9,
   "metadata": {},
   "outputs": [],
   "source": [
    "# -- this decorator allows this function to take a string or an open bytes file as input\n",
    "# -- and in either case converts it to an open file handle.\n",
    "# -- It also checks if the file exists\n",
    "# -- and, if None is passed, None will be returned \n",
    "\n",
    "@io.coerce_to_bytes_io\n",
    "def load_audio(fhandle: BinaryIO) -> Tuple[np.ndarray, float]:\n",
    "    \"\"\"Load an IDMT SMT Bass audio file.\n",
    "    Args:\n",
    "        fhandle (str or file-like): File-like object or path to audio file\n",
    "    Returns:\n",
    "        * np.ndarray - the mono audio signal\n",
    "        * float - The sample rate of the audio file\n",
    "    \"\"\"\n",
    "    return librosa.load(fhandle, sr=44100, mono=True)"
   ]
  },
  {
   "cell_type": "code",
   "execution_count": 10,
   "metadata": {},
   "outputs": [],
   "source": [
    "# -- use this decorator so the docs are complete\n",
    "@core.docstring_inherit(core.Dataset)\n",
    "class Dataset(core.Dataset):\n",
    "    \"\"\"\n",
    "    The IDMT-SMT-Bass dataset\n",
    "    \"\"\"\n",
    "\n",
    "    def __init__(self, data_home=None, version=\"default\"):\n",
    "        super().__init__(\n",
    "            data_home,\n",
    "            version,\n",
    "            name=\"IDMT-SMT-Bass\",\n",
    "            track_class=Track,\n",
    "            bibtex=BIBTEX,\n",
    "            indexes=INDEXES,\n",
    "            remotes=REMOTES,\n",
    "            license_info=LICENSE_INFO,\n",
    "        )\n",
    "# -- if your dataset has a top-level metadata file, write a loader for it here\n",
    "    # -- you do not have to include this function if there is no metadata \n",
    "    @core.cached_property\n",
    "    def _metadata(self):\n",
    "        dataset_path = os.path.join(\n",
    "            self.data_home, \"IDMT-SMT-Bass\"\n",
    "        )\n",
    "        metadata_index = {}\n",
    "        \n",
    "        for folder in os.listdir(dataset_path):\n",
    "                     \n",
    "            if '.' not in folder:\n",
    "                for subfolder in os.listdir(os.path.join(dataset_path, folder)):\n",
    "                    for track in os.listdir(os.path.join(dataset_path, folder, subfolder)):\n",
    "                        tr_split = track.split(\"_\")\n",
    "                        str_num = int(tr_split[-2])\n",
    "                        instrument_model_int = int(tr_split[1])\n",
    "                        if instrument_model_int==1:\n",
    "                            instrument_model =Type_of_Bass_Guitar[1]\n",
    "                        elif instrument_model_int==2:\n",
    "                            instrument_model =Type_of_Bass_Guitar[2]\n",
    "                        else:\n",
    "                            instrument_model=Type_of_Bass_Guitar[3]\n",
    "                            metadata_index[track.replace(\".wav\", \"\")] = {\n",
    "                            \"string_number\": str_num,\n",
    "                            \"instrument_model\":instrument_model}\n",
    "                        \n",
    "        return metadata_index\n",
    "# -- Copy any loaders you wrote that should be part of the Dataset class\n",
    "    # -- use this core.copy_docs decorator to copy the docs from the original\n",
    "    # -- load_ function\n",
    "    @core.copy_docs(load_audio)\n",
    "    def load_audio(self, *args, **kwargs):\n",
    "        return load_audio(*args, **kwargs)"
   ]
  },
  {
   "cell_type": "code",
   "execution_count": null,
   "metadata": {},
   "outputs": [],
   "source": []
  }
 ],
 "metadata": {
  "kernelspec": {
   "display_name": "Python 3",
   "language": "python",
   "name": "python3"
  },
  "language_info": {
   "codemirror_mode": {
    "name": "ipython",
    "version": 3
   },
   "file_extension": ".py",
   "mimetype": "text/x-python",
   "name": "python",
   "nbconvert_exporter": "python",
   "pygments_lexer": "ipython3",
   "version": "3.7.9"
  }
 },
 "nbformat": 4,
 "nbformat_minor": 4
}
